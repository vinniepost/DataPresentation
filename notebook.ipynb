{
 "cells": [
  {
   "cell_type": "code",
   "execution_count": 1,
   "metadata": {},
   "outputs": [],
   "source": [
    "import pandas as pd\n",
    "import matplotlib.pyplot as plt\n",
    "import sys\n",
    "import os"
   ]
  },
  {
   "cell_type": "code",
   "execution_count": 2,
   "metadata": {},
   "outputs": [
    {
     "name": "stdout",
     "output_type": "stream",
     "text": [
      "     C-Code                                    Name     Tot   00-   05-   10-  \\\n",
      "0       C00                                     Lip    33.0   0.0   0.0   0.0   \n",
      "1       C01                          Base of tongue   151.0   0.0   0.0   0.0   \n",
      "2       C02                                  Tongue   205.0   0.0   0.0   0.0   \n",
      "3       C03                                     Gum    31.0   0.0   0.0   0.0   \n",
      "4       C04                          Floor of mouth   139.0   0.0   0.0   0.0   \n",
      "..      ...                                     ...     ...   ...   ...   ...   \n",
      "60      C81                        Hodgkin lymphoma   197.0   0.0   1.0   5.0   \n",
      "61  C82-C86                    Non-Hodgkin-lymphoma  1183.0   4.0   8.0   8.0   \n",
      "62      C88  Malignant immunoproliferative diseases   238.0   0.0   0.0   1.0   \n",
      "63      C90                        Multiple myeloma   569.0   0.0   0.0   0.0   \n",
      "64      C91                      Lymphoid leukaemia   619.0  26.0  18.0  10.0   \n",
      "\n",
      "    15-   20-   25-   30-  ...   40-   45-   50-   55-    60-    65-    70-  \\\n",
      "0   0.0   0.0   0.0   0.0  ...   0.0   0.0   4.0   6.0    4.0    4.0    4.0   \n",
      "1   0.0   0.0   0.0   0.0  ...   4.0   6.0  13.0  19.0   36.0   23.0   30.0   \n",
      "2   0.0   0.0   0.0   2.0  ...   4.0   6.0  20.0  26.0   46.0   43.0   22.0   \n",
      "3   0.0   0.0   0.0   0.0  ...   0.0   0.0   0.0   3.0    5.0    5.0    4.0   \n",
      "4   0.0   0.0   0.0   0.0  ...   1.0   8.0  14.0  28.0   33.0   29.0   10.0   \n",
      "..  ...   ...   ...   ...  ...   ...   ...   ...   ...    ...    ...    ...   \n",
      "60  7.0  24.0  19.0  25.0  ...  20.0  10.0   7.0  11.0   12.0   16.0   16.0   \n",
      "61  6.0   8.0  10.0  10.0  ...  25.0  49.0  76.0  97.0  116.0  157.0  183.0   \n",
      "62  0.0   0.0   1.0   2.0  ...   5.0   8.0   8.0  19.0   29.0   30.0   47.0   \n",
      "63  0.0   1.0   1.0   2.0  ...   4.0   7.0  32.0  48.0   70.0   86.0   97.0   \n",
      "64  7.0   6.0   2.0   6.0  ...  13.0  27.0  35.0  57.0   62.0   82.0   96.0   \n",
      "\n",
      "      75-    80-    85+  \n",
      "0     2.0    5.0    4.0  \n",
      "1    11.0    8.0    1.0  \n",
      "2    17.0   12.0    3.0  \n",
      "3     7.0    6.0    1.0  \n",
      "4     9.0    2.0    4.0  \n",
      "..    ...    ...    ...  \n",
      "60    6.0    5.0    1.0  \n",
      "61  146.0  142.0  118.0  \n",
      "62   31.0   27.0   28.0  \n",
      "63   89.0   74.0   51.0  \n",
      "64   55.0   49.0   56.0  \n",
      "\n",
      "[65 rows x 21 columns]\n"
     ]
    }
   ],
   "source": [
    "# Read the Excel file\n",
    "df = pd.read_excel(\"./data/2021-M-BEL-Abs.xlsx\", header=None, engine=\"openpyxl\")\n",
    "\n",
    "# Slice the DataFrame and exclude rows 43 to 50 and everything after 75\n",
    "df = df.iloc[3:]\n",
    "df = df[~df.index.isin(range(43, 51)) & (df.index <= 75)].reset_index(drop=True)\n",
    "\n",
    "# Set the column names\n",
    "column_names = [\n",
    "    \"C-Code\", \"Name\", \"Tot\", \"00-\", \"05-\", \"10-\", \"15-\", \"20-\", \"25-\", \"30-\", \"35-\",\n",
    "    \"40-\", \"45-\", \"50-\", \"55-\", \"60-\", \"65-\", \"70-\", \"75-\", \"80-\", \"85+\"\n",
    "]\n",
    "df.columns = column_names\n",
    "df = df.replace('-',0)\n",
    "print(df)\n"
   ]
  },
  {
   "cell_type": "code",
   "execution_count": 3,
   "metadata": {},
   "outputs": [],
   "source": [
    "# totaal maken van df voor elk jaar (tel M en V op) waar de C-code en het jaar gelijk is bij de waarden\n",
    "\n",
    "def Load_df(f):\n",
    "    current_df = pd.read_excel(f,header=None,engine=\"openpyxl\")\n",
    "    # Slice the DataFrame and exclude rows 43 to 50 and everything after 75\n",
    "    current_df = current_df.iloc[3:]\n",
    "    current_df = current_df[~current_df.index.isin(range(42, 51)) & (current_df.index <= 75)].reset_index(drop=True)\n",
    "    # Set the column names\n",
    "    column_names = [\n",
    "        \"C-Code\", \"Name\", \"Tot\", \"00-\", \"05-\", \"10-\", \"15-\", \"20-\", \"25-\", \"30-\", \"35-\",\n",
    "        \"40-\", \"45-\", \"50-\", \"55-\", \"60-\", \"65-\", \"70-\", \"75-\", \"80-\", \"85+\"\n",
    "    ]\n",
    "    current_df.columns = column_names\n",
    "    current_df = current_df.replace('-',0)\n",
    "    return current_df\n",
    "    "
   ]
  },
  {
   "cell_type": "code",
   "execution_count": 4,
   "metadata": {},
   "outputs": [],
   "source": [
    "\n",
    "def process_year_data(directory, year, dataframes):\n",
    "    dfM = Load_df(os.path.join(directory, f\"{year}-M-BEL-Abs.xlsx\")) # M = Male\n",
    "    dfF = Load_df(os.path.join(directory, f\"{year}-F-BEL-Abs.xlsx\")) # F = Female\n",
    "\n",
    "    n_c_dfM = dfM.select_dtypes(include='number')\n",
    "    n_c_dfF = dfF.select_dtypes(include='number')\n",
    "    c_n_df = n_c_dfM + n_c_dfF \n",
    "\n",
    "    dataframes[f\"{year}-T\"] = dfM.copy()\n",
    "    dataframes[f\"{year}-T\"][n_c_dfM.columns] = c_n_df\n",
    "\n",
    "directory = './data'\n",
    "dataframes = {}\n",
    "\n",
    "years = [2016, 2017, 2018, 2019, 2020, 2021]\n",
    "\n",
    "for year in years:\n",
    "    process_year_data(directory, year, dataframes)\n"
   ]
  },
  {
   "cell_type": "code",
   "execution_count": 5,
   "metadata": {},
   "outputs": [
    {
     "data": {
      "text/plain": [
       "{'2016-T': 70258,\n",
       " '2017-T': 71160,\n",
       " '2018-T': 73126,\n",
       " '2019-T': 74767,\n",
       " '2020-T': 72415,\n",
       " '2021-T': 79193}"
      ]
     },
     "execution_count": 5,
     "metadata": {},
     "output_type": "execute_result"
    }
   ],
   "source": [
    "totals_per_year = {}\n",
    "\n",
    "for year, df in dataframes.items():\n",
    "    totals_per_year[year] = df['Tot'].sum()\n",
    "\n",
    "totals_per_year\n"
   ]
  },
  {
   "cell_type": "code",
   "execution_count": 6,
   "metadata": {},
   "outputs": [
    {
     "data": {
      "image/png": "[encoded data removed]",
      "text/plain": [
       "<Figure size 640x480 with 1 Axes>"
      ]
     },
     "metadata": {},
     "output_type": "display_data"
    }
   ],
   "source": [
    "\n",
    "# Calculate the change per year\n",
    "change_per_year = pd.Series(totals_per_year).diff().fillna(0)\n",
    "\n",
    "# Create a bar plot of the totals_per_year dictionary\n",
    "plt.bar(totals_per_year.keys(), totals_per_year.values())\n",
    "\n",
    "# Create a line plot of the change_per_year\n",
    "plt.plot(change_per_year.keys(), change_per_year.values, color='red', marker='o')\n",
    "\n",
    "# Set the title and labels\n",
    "plt.title('Total Population and Change per Year')\n",
    "plt.xlabel('Year')\n",
    "plt.ylabel('Total Population / Change')\n",
    "\n",
    "# Show the plot\n",
    "plt.show()\n"
   ]
  },
  {
   "cell_type": "markdown",
   "metadata": {},
   "source": [
    "If you look at the red line, you can see that there was always an increase in the number of diagnosed cancers until 2019. However, this growth stopped in 2019 and 2020 (even turned negative). This can be explained by the COVID-19 crisis, where people had less access to healthcare and were less likely to get tested.\n",
    "The spike in 2021 can partly be explained due to the backlog of people geting there diagnosis\n"
   ]
  },
  {
   "cell_type": "markdown",
   "metadata": {},
   "source": [
    "## Waterkwaliteid over dezelfde jaren\n",
    "\n",
    "Om"
   ]
  },
  {
   "cell_type": "code",
   "execution_count": 20,
   "metadata": {},
   "outputs": [
    {
     "name": "stdout",
     "output_type": "stream",
     "text": [
      "error in  Empty DataFrame\n",
      "Columns: [Geen gegevens beschikbaar]\n",
      "Index: []\n"
     ]
    }
   ],
   "source": [
    "# import os\n",
    "# import pandas as pd\n",
    "# from pyspark.sql import SparkSession\n",
    "\n",
    "# spark = SparkSession.builder \\\n",
    "#     .master(\"local[1]\") \\\n",
    "#     .appName(\"\") \\\n",
    "#     .getOrCreate()\n",
    "\n",
    "# directory = \"./PFAS_data\"\n",
    "# dataframes = []\n",
    "\n",
    "# for filename in os.listdir(directory):\n",
    "#     if filename.endswith(\".xlsx\"):\n",
    "#         file_path = os.path.join(directory, filename)\n",
    "#         xls = pd.ExcelFile(file_path)\n",
    "#         for sheet_name in xls.sheet_names:\n",
    "#             if sheet_name == 'Resultaat':\n",
    "#                 df = pd.read_excel(xls, sheet_name)\n",
    "#                 try:\n",
    "#                     dataframes.append(spark.createDataFrame(df))\n",
    "#                 except:\n",
    "#                     print('error in ', df)\n"
   ]
  },
  {
   "cell_type": "code",
   "execution_count": 24,
   "metadata": {},
   "outputs": [],
   "source": [
    "import urllib.parse\n",
    "import os\n",
    "import pandas as pd\n",
    "from pyspark.sql import SparkSession\n",
    "\n",
    "spark = SparkSession.builder \\\n",
    "    .master(\"local[1]\") \\\n",
    "    .appName(\"\") \\\n",
    "    .getOrCreate()\n",
    "\n",
    "\n",
    "directory = \"./PFAS_data\"\n",
    "spark_df = []\n",
    "for filename in os.listdir(directory):\n",
    "    if filename.endswith(\".xlsx\"):\n",
    "        file_path = os.path.join(directory, filename)\n",
    "        xls = pd.ExcelFile(file_path)\n",
    "        for sheet_name in xls.sheet_names:\n",
    "            if sheet_name == 'Resultaat':\n",
    "                df = pd.read_excel(xls, sheet_name)\n",
    "                try:\n",
    "                    spark_df.append(spark.createDataFrame(df))\n",
    "                except:\n",
    "                    pass\n",
    "    \n",
    "    \n"
   ]
  },
  {
   "cell_type": "code",
   "execution_count": 37,
   "metadata": {},
   "outputs": [
    {
     "data": {
      "text/plain": [
       "[DataFrame[Punt Nummer: string, Waterloop: string, Gemeente: string, Provincie: string, Bekken: string, Lambert X: bigint, Lambert Y: bigint, Jaar: bigint, Type: string, Parameter ID: bigint, Symbool: string, Parameter: string, Dag: timestamp, Teken: string, Resultaat: double, Eenheid: string],\n",
       " DataFrame[Punt Nummer: bigint, Waterloop: string, Gemeente: string, Provincie: string, Bekken: string, Lambert X: bigint, Lambert Y: bigint, Jaar: bigint, Type: string, Parameter ID: bigint, Symbool: string, Parameter: string, Dag: timestamp, Teken: string, Resultaat: double, Eenheid: string],\n",
       " DataFrame[Punt Nummer: string, Waterloop: string, Gemeente: string, Provincie: string, Bekken: string, Lambert X: bigint, Lambert Y: bigint, Jaar: bigint, Type: string, Parameter ID: bigint, Symbool: string, Parameter: string, Dag: timestamp, Teken: string, Resultaat: double, Eenheid: string],\n",
       " DataFrame[Punt Nummer: bigint, Waterloop: string, Gemeente: string, Provincie: string, Bekken: string, Lambert X: bigint, Lambert Y: bigint, Jaar: bigint, Type: string, Parameter ID: bigint, Symbool: string, Parameter: string, Dag: timestamp, Teken: string, Resultaat: double, Eenheid: string]]"
      ]
     },
     "execution_count": 37,
     "metadata": {},
     "output_type": "execute_result"
    }
   ],
   "source": [
    "tmp = []\n",
    "for df in spark_df:\n",
    "    filtered_df = df.filter(df['Symbool'] == 'PFOS')\n",
    "    filtered_df = filtered_df.filter(filtered_df['Eenheid'] == 'µg/kg ng')\n",
    "    filtered_df = filtered_df.dropna(subset=['Resultaat'])\n",
    "    if filtered_df.count() != 0:\n",
    "        tmp.append(filtered_df)\n",
    "\n",
    "\n",
    "tmp"
   ]
  },
  {
   "cell_type": "markdown",
   "metadata": {},
   "source": [
    "## In de opgehaalde tabel kan u waarnemen dat er niet veel datapunten overblijven, dit maakt het moeilijk om accuraate conclusies te trekken. Echter is er wel op te merken dat. Het enige dat ik hieruit kan concluderen is dat Herentals redelijk lage PFOS waarde heeft. Al kan dit ook komen door slechte metingen. Wie zal het zeggen.\n"
   ]
  },
  {
   "cell_type": "code",
   "execution_count": 73,
   "metadata": {},
   "outputs": [
    {
     "name": "stdout",
     "output_type": "stream",
     "text": [
      "Number of rows in combined_df:  26\n"
     ]
    },
    {
     "ename": "TypeError",
     "evalue": "'Row' object does not support item assignment",
     "output_type": "error",
     "traceback": [
      "\u001b[0;31m---------------------------------------------------------------------------\u001b[0m",
      "\u001b[0;31mTypeError\u001b[0m                                 Traceback (most recent call last)",
      "Cell \u001b[0;32mIn[73], line 21\u001b[0m\n\u001b[1;32m     19\u001b[0m \u001b[38;5;28mprint\u001b[39m(\u001b[38;5;124m\"\u001b[39m\u001b[38;5;124mNumber of rows in combined_df: \u001b[39m\u001b[38;5;124m\"\u001b[39m, combined_df\u001b[38;5;241m.\u001b[39mcount())\n\u001b[1;32m     20\u001b[0m \u001b[38;5;28;01mfor\u001b[39;00m row \u001b[38;5;129;01min\u001b[39;00m combined_df\u001b[38;5;241m.\u001b[39mcollect():\n\u001b[0;32m---> 21\u001b[0m     \u001b[43mrow\u001b[49m\u001b[43m[\u001b[49m\u001b[38;5;124;43m'\u001b[39;49m\u001b[38;5;124;43mLongitude\u001b[39;49m\u001b[38;5;124;43m'\u001b[39;49m\u001b[43m]\u001b[49m, row[\u001b[38;5;124m'\u001b[39m\u001b[38;5;124mLatitude\u001b[39m\u001b[38;5;124m'\u001b[39m] \u001b[38;5;241m=\u001b[39m transformer\u001b[38;5;241m.\u001b[39mtransform(row[\u001b[38;5;124m'\u001b[39m\u001b[38;5;124mLambert X\u001b[39m\u001b[38;5;124m'\u001b[39m], row[\u001b[38;5;124m'\u001b[39m\u001b[38;5;124mLambert Y\u001b[39m\u001b[38;5;124m'\u001b[39m])\n",
      "\u001b[0;31mTypeError\u001b[0m: 'Row' object does not support item assignment"
     ]
    }
   ],
   "source": [
    "import folium\n",
    "import pandas as pd\n",
    "import pyproj\n",
    "\n",
    "combined_df = None\n",
    "for df in tmp:\n",
    "    if combined_df is None:\n",
    "        combined_df = df\n",
    "    else:\n",
    "        combined_df = combined_df.union(df)\n",
    "\n",
    "# Define the Lambert projection and the WGS84 projection\n",
    "lambert = pyproj.Proj(\"+proj=lcc +lat_1=51.16666723333334 +lat_2=49.83333389999999 +lat_0=90 +lon_0=4.367486666666666 +x_0=150000.013 +y_0=5400088.438 +ellps=intl +towgs84=-106.8686,52.2978,-103.7239,0.3366,-0.457,1.8422,-1.2747 +units=m +no_defs\")\n",
    "wgs84 = pyproj.Proj(\"+proj=longlat +datum=WGS84 +no_defs\")\n",
    "\n",
    "# Create a transformer\n",
    "transformer = pyproj.Transformer.from_proj(lambert, wgs84)\n",
    "# Convert Lambert coordinates to WGS84 coordinates\n",
    "print(\"Number of rows in combined_df: \", combined_df.count())\n",
    "for row in combined_df.collect():\n",
    "    row['Longitude'], row['Latitude'] = transformer.transform(row['Lambert X'], row['Lambert Y'])\n",
    "\n"
   ]
  },
  {
   "cell_type": "code",
   "execution_count": 70,
   "metadata": {},
   "outputs": [
    {
     "ename": "TypeError",
     "evalue": "list indices must be integers or slices, not str",
     "output_type": "error",
     "traceback": [
      "\u001b[0;31m---------------------------------------------------------------------------\u001b[0m",
      "\u001b[0;31mTypeError\u001b[0m                                 Traceback (most recent call last)",
      "Cell \u001b[0;32mIn[70], line 1\u001b[0m\n\u001b[0;32m----> 1\u001b[0m \u001b[43mcombined_df\u001b[49m\u001b[38;5;241;43m.\u001b[39;49m\u001b[43mcollect\u001b[49m\u001b[43m(\u001b[49m\u001b[43m)\u001b[49m\u001b[43m[\u001b[49m\u001b[38;5;124;43m'\u001b[39;49m\u001b[38;5;124;43mLambert X\u001b[39;49m\u001b[38;5;124;43m'\u001b[39;49m\u001b[43m]\u001b[49m\n",
      "\u001b[0;31mTypeError\u001b[0m: list indices must be integers or slices, not str"
     ]
    }
   ],
   "source": [
    "\n"
   ]
  },
  {
   "cell_type": "code",
   "execution_count": null,
   "metadata": {},
   "outputs": [],
   "source": [
    "m = folium.Map(location=[51.2194, 4.4025], zoom_start=12)\n",
    "\n",
    "# Add markers for each point\n",
    "for row in combined_df:\n",
    "    folium.CircleMarker(\n",
    "        location=[row['Latitude'], row['Longitude']],\n",
    "        radius=100,\n",
    "        popup=row['Location'],\n",
    "        color='blue',\n",
    "        fill=True,\n",
    "        fill_color='blue'\n",
    "    ).add_to(m)\n",
    "\n",
    "# Display the map\n",
    "m"
   ]
  }
 ],
 "metadata": {
  "kernelspec": {
   "display_name": "Python 3",
   "language": "python",
   "name": "python3"
  },
  "language_info": {
   "codemirror_mode": {
    "name": "ipython",
    "version": 3
   },
   "file_extension": ".py",
   "mimetype": "text/x-python",
   "name": "python",
   "nbconvert_exporter": "python",
   "pygments_lexer": "ipython3",
   "version": "3.11.6"
  }
 },
 "nbformat": 4,
 "nbformat_minor": 2
}
